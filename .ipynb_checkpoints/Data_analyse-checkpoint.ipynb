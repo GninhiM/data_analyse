{
 "cells": [
  {
   "cell_type": "markdown",
   "id": "d1085e88",
   "metadata": {},
   "source": [
    "## Mon premier programme de la formation Udemy"
   ]
  },
  {
   "cell_type": "code",
   "execution_count": 1,
   "id": "f3f5f344",
   "metadata": {},
   "outputs": [],
   "source": [
    "# Les tableaux avec numpy"
   ]
  },
  {
   "cell_type": "code",
   "execution_count": 2,
   "id": "78bcf00b",
   "metadata": {},
   "outputs": [],
   "source": [
    "import numpy as np"
   ]
  },
  {
   "cell_type": "code",
   "execution_count": 3,
   "id": "1b81e39b",
   "metadata": {},
   "outputs": [
    {
     "name": "stdout",
     "output_type": "stream",
     "text": [
      "[10 20 30]\n"
     ]
    }
   ],
   "source": [
    "vector = np.array([10, 20, 30])\n",
    "print(vector)"
   ]
  },
  {
   "cell_type": "code",
   "execution_count": 4,
   "id": "8c40a0a5",
   "metadata": {},
   "outputs": [
    {
     "name": "stdout",
     "output_type": "stream",
     "text": [
      "[[ 5 10 15]\n",
      " [20 25 30]\n",
      " [35 40 45]]\n"
     ]
    }
   ],
   "source": [
    "matrix = np.array([[5, 10,15], [20,25,30], [35, 40,45]])\n",
    "print(matrix)"
   ]
  },
  {
   "cell_type": "code",
   "execution_count": 5,
   "id": "090f4b3d",
   "metadata": {},
   "outputs": [],
   "source": [
    "vector_shape = vector.shape\n",
    "matrix_shape = matrix.shape"
   ]
  },
  {
   "cell_type": "code",
   "execution_count": 6,
   "id": "25cfdd2f",
   "metadata": {},
   "outputs": [
    {
     "name": "stdout",
     "output_type": "stream",
     "text": [
      "(3,)\n",
      "(3, 3)\n"
     ]
    }
   ],
   "source": [
    "print(vector_shape)\n",
    "print(matrix_shape)"
   ]
  },
  {
   "cell_type": "markdown",
   "id": "87656667",
   "metadata": {},
   "source": [
    "# lecture de dataset avec numpy"
   ]
  },
  {
   "cell_type": "code",
   "execution_count": 7,
   "id": "9d17989c",
   "metadata": {},
   "outputs": [],
   "source": [
    "# Fonction Numpy pour lecture de dataset : numpy.genfromtxt"
   ]
  },
  {
   "cell_type": "code",
   "execution_count": 8,
   "id": "fd2cf9f3",
   "metadata": {},
   "outputs": [],
   "source": [
    "world_alcohol = np.genfromtxt(\"world_alcohol.csv\", delimiter= \",\")"
   ]
  },
  {
   "cell_type": "code",
   "execution_count": 9,
   "id": "7b946d1f",
   "metadata": {},
   "outputs": [
    {
     "data": {
      "text/plain": [
       "numpy.ndarray"
      ]
     },
     "execution_count": 9,
     "metadata": {},
     "output_type": "execute_result"
    }
   ],
   "source": [
    "type(world_alcohol)"
   ]
  },
  {
   "cell_type": "code",
   "execution_count": 10,
   "id": "2636baf7",
   "metadata": {},
   "outputs": [
    {
     "name": "stdout",
     "output_type": "stream",
     "text": [
      "[[      nan       nan       nan       nan       nan]\n",
      " [1.986e+03       nan       nan       nan 0.000e+00]\n",
      " [1.986e+03       nan       nan       nan 5.000e-01]\n",
      " ...\n",
      " [1.986e+03       nan       nan       nan 2.540e+00]\n",
      " [1.987e+03       nan       nan       nan 0.000e+00]\n",
      " [1.986e+03       nan       nan       nan 5.150e+00]]\n"
     ]
    }
   ],
   "source": [
    "print(world_alcohol)"
   ]
  },
  {
   "cell_type": "code",
   "execution_count": 11,
   "id": "9809dbfd",
   "metadata": {},
   "outputs": [
    {
     "data": {
      "text/plain": [
       "(3258, 5)"
      ]
     },
     "execution_count": 11,
     "metadata": {},
     "output_type": "execute_result"
    }
   ],
   "source": [
    "world_alcohol.shape"
   ]
  },
  {
   "cell_type": "markdown",
   "id": "f24a8f88",
   "metadata": {},
   "source": [
    "## Les types de données numpy"
   ]
  },
  {
   "cell_type": "code",
   "execution_count": 12,
   "id": "9cdabf44",
   "metadata": {},
   "outputs": [
    {
     "name": "stdout",
     "output_type": "stream",
     "text": [
      "float64\n"
     ]
    }
   ],
   "source": [
    "world_alcohol_dtype = world_alcohol.dtype\n",
    "print(world_alcohol_dtype)"
   ]
  },
  {
   "cell_type": "markdown",
   "id": "1943907a",
   "metadata": {},
   "source": [
    "## Afficher correctement les données d'un tableau"
   ]
  },
  {
   "cell_type": "code",
   "execution_count": 14,
   "id": "a613d69d",
   "metadata": {},
   "outputs": [
    {
     "name": "stdout",
     "output_type": "stream",
     "text": [
      "[['1986' 'Western Pacific' 'Viet Nam' 'Wine' '0']\n",
      " ['1986' 'Americas' 'Uruguay' 'Other' '0.5']\n",
      " ['1985' 'Africa' \"Cte d'Ivoire\" 'Wine' '1.62']\n",
      " ...\n",
      " ['1986' 'Europe' 'Switzerland' 'Spirits' '2.54']\n",
      " ['1987' 'Western Pacific' 'Papua New Guinea' 'Other' '0']\n",
      " ['1986' 'Africa' 'Swaziland' 'Other' '5.15']]\n"
     ]
    }
   ],
   "source": [
    "world_alcohol = np.genfromtxt(\"world_alcohol.csv\", delimiter= \",\", dtype = \"U75\", skip_header= 1)\n",
    "print(world_alcohol)"
   ]
  },
  {
   "cell_type": "markdown",
   "id": "354bcd25",
   "metadata": {},
   "source": [
    "## extraction de valeur depuis un tableau numpy"
   ]
  },
  {
   "cell_type": "code",
   "execution_count": 17,
   "id": "1a5f1485",
   "metadata": {},
   "outputs": [
    {
     "name": "stdout",
     "output_type": "stream",
     "text": [
      "1.62\n"
     ]
    }
   ],
   "source": [
    "ivoire_1985= world_alcohol[2,4]\n",
    "print(ivoire_1985)"
   ]
  },
  {
   "cell_type": "code",
   "execution_count": 18,
   "id": "ccc35e4d",
   "metadata": {},
   "outputs": [
    {
     "name": "stdout",
     "output_type": "stream",
     "text": [
      "Uruguay\n"
     ]
    }
   ],
   "source": [
    "seconde_country = world_alcohol[1,2]\n",
    "print(seconde_country)"
   ]
  },
  {
   "cell_type": "code",
   "execution_count": null,
   "id": "aec6d408",
   "metadata": {},
   "outputs": [],
   "source": []
  }
 ],
 "metadata": {
  "kernelspec": {
   "display_name": "Python 3 (ipykernel)",
   "language": "python",
   "name": "python3"
  },
  "language_info": {
   "codemirror_mode": {
    "name": "ipython",
    "version": 3
   },
   "file_extension": ".py",
   "mimetype": "text/x-python",
   "name": "python",
   "nbconvert_exporter": "python",
   "pygments_lexer": "ipython3",
   "version": "3.9.13"
  }
 },
 "nbformat": 4,
 "nbformat_minor": 5
}
